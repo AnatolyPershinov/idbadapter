{
 "cells": [
  {
   "cell_type": "code",
   "execution_count": 1,
   "metadata": {},
   "outputs": [
    {
     "name": "stdout",
     "output_type": "stream",
     "text": [
      "Requirement already satisfied: idbadapter in d:\\itmo\\test\\vnev\\lib\\site-packages (1.0)\n",
      "Requirement already satisfied: requests in d:\\itmo\\test\\vnev\\lib\\site-packages (from idbadapter) (2.29.0)\n",
      "Requirement already satisfied: pandas in d:\\itmo\\test\\vnev\\lib\\site-packages (from idbadapter) (2.0.1)\n",
      "Requirement already satisfied: python-dateutil>=2.8.2 in d:\\itmo\\test\\vnev\\lib\\site-packages (from pandas->idbadapter) (2.8.2)\n",
      "Requirement already satisfied: pytz>=2020.1 in d:\\itmo\\test\\vnev\\lib\\site-packages (from pandas->idbadapter) (2023.3)\n",
      "Requirement already satisfied: tzdata>=2022.1 in d:\\itmo\\test\\vnev\\lib\\site-packages (from pandas->idbadapter) (2023.3)\n",
      "Requirement already satisfied: numpy>=1.21.0 in d:\\itmo\\test\\vnev\\lib\\site-packages (from pandas->idbadapter) (1.24.3)\n",
      "Requirement already satisfied: charset-normalizer<4,>=2 in d:\\itmo\\test\\vnev\\lib\\site-packages (from requests->idbadapter) (3.1.0)\n",
      "Requirement already satisfied: idna<4,>=2.5 in d:\\itmo\\test\\vnev\\lib\\site-packages (from requests->idbadapter) (3.4)\n",
      "Requirement already satisfied: urllib3<1.27,>=1.21.1 in d:\\itmo\\test\\vnev\\lib\\site-packages (from requests->idbadapter) (1.26.15)\n",
      "Requirement already satisfied: certifi>=2017.4.17 in d:\\itmo\\test\\vnev\\lib\\site-packages (from requests->idbadapter) (2022.12.7)\n",
      "Requirement already satisfied: six>=1.5 in d:\\itmo\\test\\vnev\\lib\\site-packages (from python-dateutil>=2.8.2->pandas->idbadapter) (1.16.0)\n",
      "Note: you may need to restart the kernel to use updated packages.\n"
     ]
    },
    {
     "name": "stderr",
     "output_type": "stream",
     "text": [
      "\n",
      "[notice] A new release of pip available: 22.3 -> 23.1.2\n",
      "[notice] To update, run: python.exe -m pip install --upgrade pip\n"
     ]
    }
   ],
   "source": [
    "%pip install idbadapter"
   ]
  },
  {
   "cell_type": "code",
   "execution_count": 2,
   "metadata": {},
   "outputs": [],
   "source": [
    "from idbadapter.schedule_loader import Schedules"
   ]
  },
  {
   "attachments": {},
   "cell_type": "markdown",
   "metadata": {},
   "source": [
    "Подключение к сервису БД:"
   ]
  },
  {
   "cell_type": "code",
   "execution_count": 5,
   "metadata": {},
   "outputs": [],
   "source": [
    "adapter = Schedules(\"http://127.0.0.1:8000\")"
   ]
  },
  {
   "attachments": {},
   "cell_type": "markdown",
   "metadata": {},
   "source": [
    "Способ получения данных по ID расписания:"
   ]
  },
  {
   "cell_type": "code",
   "execution_count": 16,
   "metadata": {},
   "outputs": [
    {
     "name": "stdout",
     "output_type": "stream",
     "text": [
      "date  is_work  ... 2020-01-31\n",
      "0        True  ...        NaN\n",
      "1        True  ...        NaN\n",
      "2        True  ...        8.0\n",
      "3        True  ...        NaN\n",
      "4        True  ...        NaN\n",
      "5        True  ...        NaN\n",
      "6        True  ...        NaN\n",
      "7        True  ...        NaN\n",
      "8        True  ...        NaN\n",
      "9        True  ...        NaN\n",
      "10       True  ...        NaN\n",
      "11       True  ...        NaN\n",
      "12       True  ...        NaN\n",
      "13       True  ...       32.0\n",
      "14       True  ...        NaN\n",
      "15       True  ...        NaN\n",
      "16       True  ...        8.0\n",
      "17       True  ...        NaN\n",
      "18       True  ...        NaN\n",
      "19       True  ...        NaN\n",
      "20       True  ...        NaN\n",
      "21       True  ...        NaN\n",
      "22       True  ...        NaN\n",
      "23       True  ...        NaN\n",
      "24       True  ...        NaN\n",
      "25       True  ...        NaN\n",
      "26       True  ...        NaN\n",
      "27       True  ...        NaN\n",
      "28       True  ...        8.0\n",
      "29       True  ...        NaN\n",
      "30       True  ...        NaN\n",
      "\n",
      "[31 rows x 37 columns]\n"
     ]
    }
   ],
   "source": [
    "schedules_list = [2, 3, 4, 5]\n",
    "ceil_limit = 5000\n",
    "\n",
    "for pivot in adapter.from_schedule_ids(\n",
    "            schedule_ids=schedules_list, \n",
    "            ceil_limit=ceil_limit):\n",
    "    print(pivot)\n",
    "    break"
   ]
  },
  {
   "attachments": {},
   "cell_type": "markdown",
   "metadata": {},
   "source": [
    "Спопсоб получения данных по списку типовых работ или ресурсов"
   ]
  },
  {
   "cell_type": "code",
   "execution_count": 17,
   "metadata": {},
   "outputs": [
    {
     "name": "stdout",
     "output_type": "stream",
     "text": [
      "date  is_work  ... 2015-09-23\n",
      "0       False  ...        NaN\n",
      "1       False  ...        NaN\n",
      "2       False  ...        NaN\n",
      "3       False  ...        NaN\n",
      "4       False  ...        NaN\n",
      "..        ...  ...        ...\n",
      "854      True  ...        7.0\n",
      "855      True  ...        NaN\n",
      "856      True  ...        NaN\n",
      "857      True  ...        NaN\n",
      "858      True  ...        NaN\n",
      "\n",
      "[859 rows x 151 columns]\n"
     ]
    }
   ],
   "source": [
    "works_list = [5, 6, 7, 10, 50, 23, 545, 156]\n",
    "resources_list = [1, 2, 4, 5, 6, 7]\n",
    "ceil_limit = 5000\n",
    "\n",
    "for pivot in adapter.from_works_or_resources(\n",
    "                        works_list=works_list, \n",
    "                        resource_list=resources_list, \n",
    "                        ceil_limit=ceil_limit):\n",
    "    print(pivot)\n",
    "    break"
   ]
  }
 ],
 "metadata": {
  "kernelspec": {
   "display_name": "vnev",
   "language": "python",
   "name": "python3"
  },
  "language_info": {
   "codemirror_mode": {
    "name": "ipython",
    "version": 3
   },
   "file_extension": ".py",
   "mimetype": "text/x-python",
   "name": "python",
   "nbconvert_exporter": "python",
   "pygments_lexer": "ipython3",
   "version": "3.11.0"
  },
  "orig_nbformat": 4
 },
 "nbformat": 4,
 "nbformat_minor": 2
}
